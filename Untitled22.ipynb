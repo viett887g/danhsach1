{
  "nbformat": 4,
  "nbformat_minor": 0,
  "metadata": {
    "colab": {
      "name": "Untitled22.ipynb",
      "provenance": [],
      "authorship_tag": "ABX9TyM1gYeK1t4Dz8SWfuHfjAvg",
      "include_colab_link": true
    },
    "kernelspec": {
      "name": "python3",
      "display_name": "Python 3"
    },
    "language_info": {
      "name": "python"
    }
  },
  "cells": [
    {
      "cell_type": "markdown",
      "metadata": {
        "id": "view-in-github",
        "colab_type": "text"
      },
      "source": [
        "<a href=\"https://colab.research.google.com/github/viett887g/danhsach1/blob/main/Untitled22.ipynb\" target=\"_parent\"><img src=\"https://colab.research.google.com/assets/colab-badge.svg\" alt=\"Open In Colab\"/></a>"
      ]
    },
    {
      "cell_type": "markdown",
      "source": [
        "Bài 1. Nhập một dãy số nguyên từ bàn phím, và sắp xếp chúng theo thứ tự tăng dần\n",
        "\n",
        "Input: 5 2 4 18 9 1\n",
        "\n",
        "Output: 1 2 4 5 9 18"
      ],
      "metadata": {
        "id": "a9QwbijeII_a"
      }
    },
    {
      "cell_type": "code",
      "execution_count": 5,
      "metadata": {
        "colab": {
          "base_uri": "https://localhost:8080/"
        },
        "id": "5uDqJbd8HyC9",
        "outputId": "626942bb-158a-403b-d964-fb9a621a44a0"
      },
      "outputs": [
        {
          "output_type": "stream",
          "name": "stdout",
          "text": [
            "5 2 4 18 9 1\n",
            "[1, 2, 4, 5, 9, 18]\n"
          ]
        }
      ],
      "source": [
        "a= [int(x) for x in input().split()]\n",
        "a1=  sorted(a)\n",
        "print(a1)"
      ]
    },
    {
      "cell_type": "code",
      "source": [
        "a=[]\n",
        "for i in range(6):\n",
        "  b=int(input())\n",
        "  a.append(b)\n",
        "\n",
        "print(a)\n",
        "n=len(a)\n",
        "for i in range(n-1):\n",
        "  for j in range(i+1,n):\n",
        "    if a[i]>a[j]:\n",
        "      a[i],a[j]=a[j],a[i]\n",
        "\n",
        "print(a)\n"
      ],
      "metadata": {
        "colab": {
          "base_uri": "https://localhost:8080/"
        },
        "id": "oxlrChsTISrK",
        "outputId": "e01510d1-89d0-41f5-f400-ccec4659f6f6"
      },
      "execution_count": 28,
      "outputs": [
        {
          "output_type": "stream",
          "name": "stdout",
          "text": [
            "5\n",
            "2\n",
            "4\n",
            "18\n",
            "9\n",
            "1\n",
            "[5, 2, 4, 18, 9, 1]\n",
            "[1, 2, 4, 5, 9, 18]\n"
          ]
        }
      ]
    },
    {
      "cell_type": "markdown",
      "source": [
        "Bài 2. Nhập một dãy số nguyên từ bàn phím, và cho biết số lần xuất hiện của từng số trong dãy số\n",
        "\n",
        "Input: 1 3 2 9 4 3 2 9 8 1 1 3 2 9 1\n",
        "\n",
        "Ouput:\n",
        "(1,4) (2,3) (3,3) (4,1) (8,1) (9,3)"
      ],
      "metadata": {
        "id": "k9ROB4N2Ns-R"
      }
    },
    {
      "cell_type": "code",
      "source": [
        "def acid(arr, n, x):\n",
        "    res = 0\n",
        "    for i in range(n):\n",
        "        if x == arr[i]:\n",
        "            res += 1\n",
        "    return res\n",
        "  \n",
        "arr = [1,3,2,9,4,3,2,9,8,1,1,3,2,9,1]\n",
        "n = len(arr)\n",
        "x = int(input())\n",
        "print(\"so lan xuat hien cua \",x,\"la\")\n",
        "print(acid(arr, n, x))"
      ],
      "metadata": {
        "colab": {
          "base_uri": "https://localhost:8080/"
        },
        "id": "G6cW2RdGM58T",
        "outputId": "3f5106cb-88ca-469d-d790-dbc088deba9b"
      },
      "execution_count": 44,
      "outputs": [
        {
          "output_type": "stream",
          "name": "stdout",
          "text": [
            "1\n",
            "so lan xuat hien cua  1 la\n",
            "4\n"
          ]
        }
      ]
    },
    {
      "cell_type": "code",
      "source": [
        "x = int(input())\n",
        "print(\"so lan xuat hien cua \",x,\"la\")\n",
        "print(acid(arr, n, x))"
      ],
      "metadata": {
        "colab": {
          "base_uri": "https://localhost:8080/"
        },
        "id": "GffqBSvXQ_u6",
        "outputId": "8e2c1a80-7c45-4b5c-8302-7508e04dd6ce"
      },
      "execution_count": 51,
      "outputs": [
        {
          "output_type": "stream",
          "name": "stdout",
          "text": [
            "2\n",
            "so lan xuat hien cua  2 la\n",
            "3\n"
          ]
        }
      ]
    },
    {
      "cell_type": "code",
      "source": [
        "x = int(input())\n",
        "print(\"so lan xuat hien cua \",x,\"la\")\n",
        "print(acid(arr, n, x))"
      ],
      "metadata": {
        "colab": {
          "base_uri": "https://localhost:8080/"
        },
        "id": "DU_chGxcRBdW",
        "outputId": "fbad6817-36c0-4b3d-c117-19e15108b4fd"
      },
      "execution_count": 52,
      "outputs": [
        {
          "output_type": "stream",
          "name": "stdout",
          "text": [
            "3\n",
            "so lan xuat hien cua  3 la\n",
            "3\n"
          ]
        }
      ]
    },
    {
      "cell_type": "code",
      "source": [
        "x = int(input())\n",
        "print(\"so lan xuat hien cua \",x,\"la\")\n",
        "print(acid(arr, n, x))"
      ],
      "metadata": {
        "colab": {
          "base_uri": "https://localhost:8080/"
        },
        "id": "YeZfGJp0RD0x",
        "outputId": "92ae1357-0701-4ef4-994d-39b5b9fa8e13"
      },
      "execution_count": 53,
      "outputs": [
        {
          "output_type": "stream",
          "name": "stdout",
          "text": [
            "4\n",
            "so lan xuat hien cua  4 la\n",
            "1\n"
          ]
        }
      ]
    },
    {
      "cell_type": "code",
      "source": [
        "x = int(input())\n",
        "print(\"so lan xuat hien cua \",x,\"la\")\n",
        "print(acid(arr, n, x))"
      ],
      "metadata": {
        "colab": {
          "base_uri": "https://localhost:8080/"
        },
        "id": "iKlfJ-aKRFOp",
        "outputId": "c811bc18-48e0-4dd3-dad9-9e4827d0372c"
      },
      "execution_count": 54,
      "outputs": [
        {
          "output_type": "stream",
          "name": "stdout",
          "text": [
            "8\n",
            "so lan xuat hien cua  8 la\n",
            "1\n"
          ]
        }
      ]
    },
    {
      "cell_type": "code",
      "source": [
        "x = int(input())\n",
        "print(\"so lan xuat hien cua \",x,\"la\")\n",
        "print(acid(arr, n, x))"
      ],
      "metadata": {
        "colab": {
          "base_uri": "https://localhost:8080/"
        },
        "id": "xg6V1AqnRGnQ",
        "outputId": "52331987-ca75-427b-a557-be4bf2e3dd8f"
      },
      "execution_count": 55,
      "outputs": [
        {
          "output_type": "stream",
          "name": "stdout",
          "text": [
            "9\n",
            "so lan xuat hien cua  9 la\n",
            "3\n"
          ]
        }
      ]
    },
    {
      "cell_type": "code",
      "source": [
        "try:\n",
        "   import queue\n",
        "except ImportError:\n",
        "   import Queue as queue"
      ],
      "metadata": {
        "id": "tpfgf8rHRdq5"
      },
      "execution_count": 64,
      "outputs": []
    },
    {
      "cell_type": "code",
      "source": [
        "from multiprocessing import JoinableQueue"
      ],
      "metadata": {
        "id": "8T7BChgbRmJD"
      },
      "execution_count": 57,
      "outputs": []
    },
    {
      "cell_type": "code",
      "source": [
        "workQueue = queue.Queue(10)"
      ],
      "metadata": {
        "id": "J_n_aCghRpBK"
      },
      "execution_count": 58,
      "outputs": []
    }
  ]
}